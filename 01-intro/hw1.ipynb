{
 "cells": [
  {
   "cell_type": "code",
   "execution_count": 1,
   "id": "a78f1781-d69e-405e-9503-57c507acb176",
   "metadata": {},
   "outputs": [],
   "source": [
    "import openai"
   ]
  },
  {
   "cell_type": "code",
   "execution_count": 2,
   "id": "62c010a6-79b6-4afe-ab43-dcc3963e7bbe",
   "metadata": {},
   "outputs": [],
   "source": [
    "from openai import OpenAI"
   ]
  },
  {
   "cell_type": "code",
   "execution_count": 3,
   "id": "2f2a3062-8a22-4225-9370-16fa8798c56a",
   "metadata": {},
   "outputs": [],
   "source": [
    "client=OpenAI(api_key=")"
   ]
  },
  {
   "cell_type": "code",
   "execution_count": 5,
   "id": "74df8cd8-780e-4df6-a1ac-dcfbd5bab2c2",
   "metadata": {},
   "outputs": [],
   "source": [
    "import os"
   ]
  },
  {
   "cell_type": "code",
   "execution_count": 14,
   "id": "34bf90f2-60f7-4b55-a44e-0350cef3f620",
   "metadata": {},
   "outputs": [],
   "source": [
    "response=client.chat.completions.create(\n",
    "    model='gpt-4o-mini',\n",
    "    messages=[{\"role\": \"user\" , \"content\": \"is it too late to join the course\"}]\n",
    ")"
   ]
  },
  {
   "cell_type": "code",
   "execution_count": 15,
   "id": "f240e9f7-42e2-4b4c-9c64-705db24b93c0",
   "metadata": {},
   "outputs": [
    {
     "data": {
      "text/plain": [
       "ChatCompletion(id='chatcmpl-AqOTCaWpWuFObCQbuIgzK7StbYjBA', choices=[Choice(finish_reason='stop', index=0, logprobs=None, message=ChatCompletionMessage(content=\"Whether it's too late to join a course depends on several factors, such as the course's start date, its enrollment policy, and any deadlines set by the institution offering it. Here are a few steps you can take:\\n\\n1. **Check the Course Schedule**: Look at the course details on the institution's website for enrollment dates.\\n\\n2. **Contact the Instructor or Office**: Reach out to the course instructor or the admissions office to inquire about the possibility of late enrollment.\\n\\n3. **Review the Policies**: Some courses may allow late enrollment under certain circumstances.\\n\\n4. **Consider Alternatives**: If it's too late for this course, ask about future offerings or alternative courses that might still be available.\\n\\nIf you provide more context about the course, I might be able to give you more specific advice!\", refusal=None, role='assistant', audio=None, function_call=None, tool_calls=None))], created=1737050482, model='gpt-4o-mini-2024-07-18', object='chat.completion', service_tier='default', system_fingerprint='fp_72ed7ab54c', usage=CompletionUsage(completion_tokens=163, prompt_tokens=15, total_tokens=178, completion_tokens_details=CompletionTokensDetails(accepted_prediction_tokens=0, audio_tokens=0, reasoning_tokens=0, rejected_prediction_tokens=0), prompt_tokens_details=PromptTokensDetails(audio_tokens=0, cached_tokens=0)))"
      ]
     },
     "execution_count": 15,
     "metadata": {},
     "output_type": "execute_result"
    }
   ],
   "source": [
    "response"
   ]
  },
  {
   "cell_type": "code",
   "execution_count": 16,
   "id": "c73a900c-a4ab-4aed-aa14-1d505ff49d8f",
   "metadata": {},
   "outputs": [
    {
     "data": {
      "text/plain": [
       "\"Whether it's too late to join a course depends on several factors, such as the course's start date, its enrollment policy, and any deadlines set by the institution offering it. Here are a few steps you can take:\\n\\n1. **Check the Course Schedule**: Look at the course details on the institution's website for enrollment dates.\\n\\n2. **Contact the Instructor or Office**: Reach out to the course instructor or the admissions office to inquire about the possibility of late enrollment.\\n\\n3. **Review the Policies**: Some courses may allow late enrollment under certain circumstances.\\n\\n4. **Consider Alternatives**: If it's too late for this course, ask about future offerings or alternative courses that might still be available.\\n\\nIf you provide more context about the course, I might be able to give you more specific advice!\""
      ]
     },
     "execution_count": 16,
     "metadata": {},
     "output_type": "execute_result"
    }
   ],
   "source": [
    "response.choices[0].message.content\n"
   ]
  },
  {
   "cell_type": "code",
   "execution_count": null,
   "id": "9c0817ca-88a3-4fef-b052-0e3a6da9d6f7",
   "metadata": {},
   "outputs": [],
   "source": []
  }
 ],
 "metadata": {
  "kernelspec": {
   "display_name": "Python 3 (ipykernel)",
   "language": "python",
   "name": "python3"
  },
  "language_info": {
   "codemirror_mode": {
    "name": "ipython",
    "version": 3
   },
   "file_extension": ".py",
   "mimetype": "text/x-python",
   "name": "python",
   "nbconvert_exporter": "python",
   "pygments_lexer": "ipython3",
   "version": "3.12.1"
  }
 },
 "nbformat": 4,
 "nbformat_minor": 5
}
